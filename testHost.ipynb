{
 "cells": [
  {
   "cell_type": "code",
   "execution_count": 5,
   "id": "f0985070",
   "metadata": {},
   "outputs": [],
   "source": [
    "import numpy as np\n",
    "import pandas as pd\n",
    "from sklearn.model_selection import train_test_split\n",
    "from sklearn.preprocessing import StandardScaler\n",
    "from sklearn.metrics import accuracy_score, classification_report, f1_score, confusion_matrix\n",
    "from sklearn.preprocessing import LabelEncoder\n",
    "from sklearn.preprocessing import StandardScaler\n",
    "import timeit\n",
    "import time\n",
    "import psutil\n",
    "\n",
    "weight_external = 0.3\n",
    "weight_performance = 0.7"
   ]
  },
  {
   "cell_type": "code",
   "execution_count": 6,
   "id": "9c996600",
   "metadata": {},
   "outputs": [],
   "source": [
    "#Importing Dataset\n",
    "classDataset = \"https://raw.githubusercontent.com/Akshay-De-Silva/ml_apis/main/heart.csv?token=GHSAT0AAAAAACNDSWOGG4S44W5ILXDULKZ6ZPVN7BQ\"\n",
    "dataset = pd.read_csv(classDataset)\n",
    "\n",
    "#relabel values in columns to be numeric\n",
    "label_encoder = LabelEncoder()\n",
    "dataset['Sex'] = label_encoder.fit_transform(dataset['Sex'])\n",
    "dataset['ChestPainType'] = label_encoder.fit_transform(dataset['ChestPainType'])\n",
    "dataset['RestingECG'] = label_encoder.fit_transform(dataset['RestingECG'])\n",
    "dataset['ExerciseAngina'] = label_encoder.fit_transform(dataset['ExerciseAngina'])\n",
    "dataset['ST_Slope'] = label_encoder.fit_transform(dataset['ST_Slope'])\n",
    "\n",
    "X=dataset[['Age', 'Sex', 'ChestPainType', 'RestingBP', 'Cholesterol',\n",
    "           'FastingBS', 'RestingECG', 'MaxHR', 'ExerciseAngina', 'Oldpeak', 'ST_Slope']].values\n",
    "y=dataset[['HeartDisease']].values\n",
    "\n",
    "X_train, X_test, y_train, y_test = train_test_split(X, y, test_size=0.2, random_state=42)\n",
    "\n",
    "y_train = y_train.ravel()\n",
    "y_test = y_test.ravel()\n",
    "\n",
    "scaler = StandardScaler()\n",
    "X_train = scaler.fit_transform(X_train)\n",
    "X_test = scaler.transform(X_test)"
   ]
  },
  {
   "cell_type": "code",
   "execution_count": null,
   "id": "2778e4d2",
   "metadata": {},
   "outputs": [],
   "source": [
    "num_epochs = 5\n",
    "total_cpu_usage = 0\n",
    "\n",
    "# Logistic Regression\n",
    "from sklearn.linear_model import LogisticRegression\n",
    "\n",
    "logistic_regression = LogisticRegression()\n",
    "for epoch in range(num_epochs):\n",
    "  cpu_percent = psutil.cpu_percent(interval=1)\n",
    "  training_time = timeit.timeit(lambda: logistic_regression.fit(X_train, y_train), number=1)\n",
    "  testing_time = timeit.timeit(lambda: logistic_regression.predict(X_test), number=1)\n",
    "  time.sleep(1)\n",
    "\n",
    "ram_usage_bytes = psutil.virtual_memory().used\n",
    "ram_usage = ram_usage_bytes / (1024 ** 2)\n",
    "average_cpu_usage = total_cpu_usage / num_epochs\n",
    "\n",
    "y_pred = logistic_regression.predict(X_test)\n",
    "accuracy = accuracy_score(y_test, y_pred)"
   ]
  },
  {
   "cell_type": "code",
   "execution_count": null,
   "id": "3535774a",
   "metadata": {},
   "outputs": [],
   "source": [
    "tp_cost = 1/13\n",
    "tn_cost = 1/13\n",
    "fp_cost = 4/13\n",
    "fn_cost = 7/13\n",
    "\n",
    "conf_matrix = confusion_matrix(y_test, y_pred)\n",
    "tp, fp, fn, tn = conf_matrix.ravel()\n",
    "f1_cost_index = (2*tp_cost*tp)/(2*tp_cost*tp + fp_cost*fp + fn_cost*fn)\n",
    "\n",
    "max_time = 0\n",
    "min_time = 0\n",
    "max_gpu = 0\n",
    "min_gpu = 0\n",
    "max_cpu = 0\n",
    "min_cpu = 0\n",
    "max_ram = 0\n",
    "min_ram = 0\n",
    "gpu_usage = 0\n",
    "cpu_usage = 0\n",
    "\n",
    "print(f\"Logistic Regression Training Time: {training_time:.4f} seconds\")\n",
    "print(f\"Logistic Regression Testing Time: {testing_time:.4f} seconds\")\n",
    "print(f\"Logistic Regression Accuracy: {accuracy:.2f}\")\n",
    "print(f\"Logistic Regression CPU Usage: {average_cpu_usage:.2f}\")\n",
    "print(f\"System RAM Usage: {ram_usage:.2f} MB\")\n",
    "print(f\"F1-Cost Index: {f1_cost_index:.2f}\")"
   ]
  }
 ],
 "metadata": {
  "kernelspec": {
   "display_name": "Python 3 (ipykernel)",
   "language": "python",
   "name": "python3"
  },
  "language_info": {
   "codemirror_mode": {
    "name": "ipython",
    "version": 3
   },
   "file_extension": ".py",
   "mimetype": "text/x-python",
   "name": "python",
   "nbconvert_exporter": "python",
   "pygments_lexer": "ipython3",
   "version": "3.11.5"
  }
 },
 "nbformat": 4,
 "nbformat_minor": 5
}
