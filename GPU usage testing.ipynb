{
 "cells": [
  {
   "cell_type": "code",
   "execution_count": 7,
   "id": "f85cba16",
   "metadata": {},
   "outputs": [
    {
     "name": "stdout",
     "output_type": "stream",
     "text": [
      "Training Time: 0.03503108 seconds\n",
      "GPU Memory Before Training: 938.0 MB\n",
      "GPU Memory After Training: 938.0 MB\n",
      "GPU Memory Used During Training: 0.0 MB\n"
     ]
    }
   ],
   "source": [
    "from sklearn import datasets\n",
    "from sklearn.model_selection import train_test_split\n",
    "from sklearn.svm import SVC\n",
    "from sklearn.metrics import accuracy_score\n",
    "import time\n",
    "import psutil\n",
    "import os\n",
    "import GPUtil\n",
    "\n",
    "iris = datasets.load_iris()\n",
    "X = iris.data\n",
    "y = iris.target\n",
    "\n",
    "X_train, X_test, y_train, y_test = train_test_split(X, y, test_size=0.85, random_state=42)\n",
    "\n",
    "svm_classifier = SVC(kernel='linear')\n",
    "\n",
    "start_training_time = time.time()\n",
    "gpus_before = GPUtil.getGPUs()\n",
    "gpu_memory_before = gpus_before[0].memoryUsed  # Assuming only one GPU is used\n",
    "\n",
    "svm_classifier.fit(X_train, y_train)\n",
    "\n",
    "end_training_time = time.time()\n",
    "gpus_after = GPUtil.getGPUs()\n",
    "gpu_memory_after = gpus_after[0].memoryUsed  # Assuming only one GPU is used\n",
    "\n",
    "training_time_duration = end_training_time - start_training_time\n",
    "memory_used_during_training = gpu_memory_after - gpu_memory_before\n",
    "\n",
    "print(f\"Training Time: {training_time_duration:.8f} seconds\")\n",
    "print(f\"GPU Memory Before Training: {gpu_memory_before} MB\")\n",
    "print(f\"GPU Memory After Training: {gpu_memory_after} MB\")\n",
    "print(f\"GPU Memory Used During Training: {memory_used_during_training} MB\")"
   ]
  }
 ],
 "metadata": {
  "kernelspec": {
   "display_name": "Python 3 (ipykernel)",
   "language": "python",
   "name": "python3"
  },
  "language_info": {
   "codemirror_mode": {
    "name": "ipython",
    "version": 3
   },
   "file_extension": ".py",
   "mimetype": "text/x-python",
   "name": "python",
   "nbconvert_exporter": "python",
   "pygments_lexer": "ipython3",
   "version": "3.11.5"
  }
 },
 "nbformat": 4,
 "nbformat_minor": 5
}
