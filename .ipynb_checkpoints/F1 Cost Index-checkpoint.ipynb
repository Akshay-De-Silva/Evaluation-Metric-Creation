{
 "cells": [
  {
   "cell_type": "code",
   "execution_count": 11,
   "id": "aec92379",
   "metadata": {},
   "outputs": [],
   "source": [
    "import numpy as np\n",
    "import pandas as pd\n",
    "from sklearn.model_selection import train_test_split\n",
    "from sklearn.preprocessing import StandardScaler\n",
    "from sklearn.metrics import accuracy_score, classification_report, f1_score, confusion_matrix\n",
    "from sklearn.preprocessing import LabelEncoder\n",
    "from sklearn.preprocessing import StandardScaler\n",
    "\n",
    "#Importing Dataset\n",
    "dataset=pd.read_csv('D:\\Programming\\Datasets\\Classification\\Heart_Failure\\heart.csv')\n",
    "\n",
    "#relabel values in columns to be numeric\n",
    "label_encoder = LabelEncoder()\n",
    "dataset['Sex'] = label_encoder.fit_transform(dataset['Sex'])\n",
    "dataset['ChestPainType'] = label_encoder.fit_transform(dataset['ChestPainType'])\n",
    "dataset['RestingECG'] = label_encoder.fit_transform(dataset['RestingECG'])\n",
    "dataset['ExerciseAngina'] = label_encoder.fit_transform(dataset['ExerciseAngina'])\n",
    "dataset['ST_Slope'] = label_encoder.fit_transform(dataset['ST_Slope'])\n",
    "\n",
    "X=dataset[['Age', 'Sex', 'ChestPainType', 'RestingBP', 'Cholesterol', 'FastingBS', 'RestingECG', 'MaxHR', 'ExerciseAngina', 'Oldpeak', 'ST_Slope']].values\n",
    "y=dataset[['HeartDisease']].values\n",
    "\n",
    "X_train, X_test, y_train, y_test = train_test_split(X, y, test_size=0.2, random_state=42)\n",
    "\n",
    "y_train = y_train.ravel()\n",
    "y_test = y_test.ravel()\n",
    "\n",
    "scaler = StandardScaler()\n",
    "X_train = scaler.fit_transform(X_train)\n",
    "X_test = scaler.transform(X_test)"
   ]
  },
  {
   "cell_type": "code",
   "execution_count": 12,
   "id": "94728dd3",
   "metadata": {},
   "outputs": [
    {
     "name": "stdout",
     "output_type": "stream",
     "text": [
      "Random Forest Accuracy: 0.89\n",
      "Random Forest F1-Score: 0.91\n",
      "Random Forest F1-Cost Index: 0.55\n"
     ]
    }
   ],
   "source": [
    "# Random Forest\n",
    "from sklearn.ensemble import RandomForestClassifier\n",
    "\n",
    "#using data from saftey score (salman et al.)\n",
    "tp_cost = 1/13\n",
    "tn_cost = 1/13\n",
    "fp_cost = 4/13\n",
    "fn_cost = 7/13\n",
    "\n",
    "random_forest = RandomForestClassifier(n_estimators=100)\n",
    "random_forest.fit(X_train, y_train)\n",
    "y_pred = random_forest.predict(X_test)\n",
    "\n",
    "accuracy = accuracy_score(y_test, y_pred)\n",
    "f1 = f1_score(y_test, y_pred)\n",
    "\n",
    "conf_matrix = confusion_matrix(y_test, y_pred)\n",
    "tp, fp, fn, tn = conf_matrix.ravel()\n",
    "\n",
    "f1_cost_index = (2*tp_cost*tp)/(2*tp_cost*tp + fp_cost*fp + fn_cost*fn)\n",
    "\n",
    "print(f\"Random Forest Accuracy: {accuracy:.2f}\")\n",
    "print(f\"Random Forest F1-Score: {f1:.2f}\")\n",
    "print(f\"Random Forest F1-Cost Index: {f1_cost_index:.2f}\")"
   ]
  }
 ],
 "metadata": {
  "kernelspec": {
   "display_name": "Python 3 (ipykernel)",
   "language": "python",
   "name": "python3"
  },
  "language_info": {
   "codemirror_mode": {
    "name": "ipython",
    "version": 3
   },
   "file_extension": ".py",
   "mimetype": "text/x-python",
   "name": "python",
   "nbconvert_exporter": "python",
   "pygments_lexer": "ipython3",
   "version": "3.11.5"
  }
 },
 "nbformat": 4,
 "nbformat_minor": 5
}
