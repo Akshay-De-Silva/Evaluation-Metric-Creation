{
 "cells": [
  {
   "cell_type": "code",
   "execution_count": 217,
   "id": "3ad4e796",
   "metadata": {},
   "outputs": [],
   "source": [
    "import numpy as np\n",
    "import pandas as pd\n",
    "import time\n",
    "import timeit\n",
    "from sklearn.model_selection import train_test_split\n",
    "from sklearn.preprocessing import StandardScaler\n",
    "from sklearn.metrics import accuracy_score, classification_report, f1_score\n",
    "from sklearn.preprocessing import LabelEncoder\n",
    "from sklearn.preprocessing import StandardScaler\n",
    "\n",
    "#Importing Dataset\n",
    "dataset=pd.read_csv('D:\\Programming\\Datasets\\Classification\\Heart_Failure\\heart.csv')\n",
    "\n",
    "#relabel values in columns to be numeric\n",
    "label_encoder = LabelEncoder()\n",
    "dataset['Sex'] = label_encoder.fit_transform(dataset['Sex'])\n",
    "dataset['ChestPainType'] = label_encoder.fit_transform(dataset['ChestPainType'])\n",
    "dataset['RestingECG'] = label_encoder.fit_transform(dataset['RestingECG'])\n",
    "dataset['ExerciseAngina'] = label_encoder.fit_transform(dataset['ExerciseAngina'])\n",
    "dataset['ST_Slope'] = label_encoder.fit_transform(dataset['ST_Slope'])\n",
    "\n",
    "X=dataset[['Age', 'Sex', 'ChestPainType', 'RestingBP', 'Cholesterol', 'FastingBS', 'RestingECG', 'MaxHR', 'ExerciseAngina', 'Oldpeak', 'ST_Slope']].values\n",
    "y=dataset[['HeartDisease']].values\n",
    "\n",
    "X_train, X_test, y_train, y_test = train_test_split(X, y, test_size=0.2, random_state=42)\n",
    "\n",
    "y_train = y_train.ravel()\n",
    "y_test = y_test.ravel()\n",
    "\n",
    "scaler = StandardScaler()\n",
    "X_train = scaler.fit_transform(X_train)\n",
    "X_test = scaler.transform(X_test)"
   ]
  },
  {
   "cell_type": "code",
   "execution_count": 218,
   "id": "9e055f92",
   "metadata": {},
   "outputs": [],
   "source": [
    "from sklearn.linear_model import LogisticRegression\n",
    "from sklearn.neighbors import KNeighborsClassifier\n",
    "from sklearn.tree import DecisionTreeClassifier\n",
    "from sklearn.ensemble import RandomForestClassifier\n",
    "from sklearn.naive_bayes import GaussianNB\n",
    "from sklearn.svm import SVC\n",
    "from sklearn.neural_network import MLPClassifier\n",
    "\n",
    "acc_all = []\n",
    "train_all = []\n",
    "test_all = []"
   ]
  },
  {
   "cell_type": "code",
   "execution_count": 219,
   "id": "7a273c49",
   "metadata": {},
   "outputs": [
    {
     "name": "stdout",
     "output_type": "stream",
     "text": [
      "Logistic Regression Training Time: 0.0026 seconds\n",
      "Logistic Regression Testing Time: 0.0001 seconds\n",
      "Logistic Regression Accuracy: 0.85\n"
     ]
    }
   ],
   "source": [
    "# Logistic Regression\n",
    "\n",
    "logistic_regression = LogisticRegression()\n",
    "training_time_lr = timeit.timeit(lambda: logistic_regression.fit(X_train, y_train), number=1)\n",
    "testing_time_lr = timeit.timeit(lambda: logistic_regression.predict(X_test), number=1)\n",
    "\n",
    "y_pred_lr = logistic_regression.predict(X_test)\n",
    "accuracy_lr = accuracy_score(y_test, y_pred_lr)\n",
    "\n",
    "print(f\"Logistic Regression Training Time: {training_time_lr:.4f} seconds\")\n",
    "print(f\"Logistic Regression Testing Time: {testing_time_lr:.4f} seconds\")\n",
    "print(f\"Logistic Regression Accuracy: {accuracy_lr:.2f}\")\n",
    "\n",
    "acc_all.append(accuracy_lr)\n",
    "train_all.append(training_time_lr)\n",
    "test_all.append(testing_time_lr)"
   ]
  },
  {
   "cell_type": "code",
   "execution_count": 220,
   "id": "cddd565e",
   "metadata": {},
   "outputs": [
    {
     "name": "stdout",
     "output_type": "stream",
     "text": [
      "KNN Training Time: 0.0016 seconds\n",
      "KNN Testing Time: 0.0099 seconds\n",
      "KNN Accuracy: 0.83\n"
     ]
    }
   ],
   "source": [
    "# K-Nearest Neighbors (KNN)\n",
    "\n",
    "knn_classifier = KNeighborsClassifier(n_neighbors=3)\n",
    "training_time_knn = timeit.timeit(lambda: knn_classifier.fit(X_train, y_train), number=1)\n",
    "testing_time_knn = timeit.timeit(lambda: knn_classifier.predict(X_test), number=1)\n",
    "\n",
    "y_pred_knn = knn_classifier.predict(X_test)\n",
    "accuracy_knn = accuracy_score(y_test, y_pred_knn)\n",
    "\n",
    "print(f\"KNN Training Time: {training_time_knn:.4f} seconds\")\n",
    "print(f\"KNN Testing Time: {testing_time_knn:.4f} seconds\")\n",
    "print(f\"KNN Accuracy: {accuracy_knn:.2f}\")\n",
    "\n",
    "acc_all.append(accuracy_knn)\n",
    "train_all.append(training_time_knn)\n",
    "test_all.append(testing_time_knn)"
   ]
  },
  {
   "cell_type": "code",
   "execution_count": 221,
   "id": "235e5deb",
   "metadata": {},
   "outputs": [
    {
     "name": "stdout",
     "output_type": "stream",
     "text": [
      "Decision Tree Training Time: 0.0043 seconds\n",
      "Decision Tree Testing Time: 0.0002 seconds\n",
      "Decision Tree Accuracy: 0.80\n"
     ]
    }
   ],
   "source": [
    "# Decision Trees\n",
    "\n",
    "decision_tree = DecisionTreeClassifier()\n",
    "training_time_dt = timeit.timeit(lambda: decision_tree.fit(X_train, y_train), number=1)\n",
    "testing_time_dt = timeit.timeit(lambda: decision_tree.predict(X_test), number=1)\n",
    "\n",
    "y_pred_dt = decision_tree.predict(X_test)\n",
    "accuracy_dt = accuracy_score(y_test, y_pred_dt)\n",
    "\n",
    "print(f\"Decision Tree Training Time: {training_time_dt:.4f} seconds\")\n",
    "print(f\"Decision Tree Testing Time: {testing_time_dt:.4f} seconds\")\n",
    "print(f\"Decision Tree Accuracy: {accuracy_dt:.2f}\")\n",
    "\n",
    "acc_all.append(accuracy_dt)\n",
    "train_all.append(training_time_dt)\n",
    "test_all.append(testing_time_dt)"
   ]
  },
  {
   "cell_type": "code",
   "execution_count": 222,
   "id": "31ea6227",
   "metadata": {},
   "outputs": [
    {
     "name": "stdout",
     "output_type": "stream",
     "text": [
      "Random Forest Training Time: 0.1788 seconds\n",
      "Random Forest Testing Time: 0.0104 seconds\n",
      "Random Forest Accuracy: 0.86\n"
     ]
    }
   ],
   "source": [
    "# Random Forest\n",
    "\n",
    "random_forest = RandomForestClassifier(n_estimators=100)\n",
    "training_time_rf = timeit.timeit(lambda: random_forest.fit(X_train, y_train), number=1)\n",
    "testing_time_rf = timeit.timeit(lambda: random_forest.predict(X_test), number=1)\n",
    "\n",
    "y_pred_rf = random_forest.predict(X_test)\n",
    "accuracy_rf = accuracy_score(y_test, y_pred_rf)\n",
    "\n",
    "print(f\"Random Forest Training Time: {training_time_rf:.4f} seconds\")\n",
    "print(f\"Random Forest Testing Time: {testing_time_rf:.4f} seconds\")\n",
    "print(f\"Random Forest Accuracy: {accuracy_rf:.2f}\")\n",
    "\n",
    "acc_all.append(accuracy_rf)\n",
    "train_all.append(training_time_rf)\n",
    "test_all.append(testing_time_rf)"
   ]
  },
  {
   "cell_type": "code",
   "execution_count": 223,
   "id": "164f0a36",
   "metadata": {},
   "outputs": [
    {
     "name": "stdout",
     "output_type": "stream",
     "text": [
      "Naive Bayes Training Time: 0.0013 seconds\n",
      "Naive Bayes Testing Time: 0.0002 seconds\n",
      "Naive Bayes Accuracy: 0.84\n"
     ]
    }
   ],
   "source": [
    "# Naive Bayes\n",
    "\n",
    "naive_bayes = GaussianNB()\n",
    "training_time_nb = timeit.timeit(lambda: naive_bayes.fit(X_train, y_train), number=1)\n",
    "testing_time_nb = timeit.timeit(lambda: naive_bayes.predict(X_test), number=1)\n",
    "\n",
    "y_pred_nb = naive_bayes.predict(X_test)\n",
    "accuracy_nb = accuracy_score(y_test, y_pred_nb)\n",
    "\n",
    "print(f\"Naive Bayes Training Time: {training_time_nb:.4f} seconds\")\n",
    "print(f\"Naive Bayes Testing Time: {testing_time_nb:.4f} seconds\")\n",
    "print(f\"Naive Bayes Accuracy: {accuracy_nb:.2f}\")\n",
    "\n",
    "acc_all.append(accuracy_nb)\n",
    "train_all.append(training_time_nb)\n",
    "test_all.append(testing_time_nb)"
   ]
  },
  {
   "cell_type": "code",
   "execution_count": 224,
   "id": "df886315",
   "metadata": {},
   "outputs": [
    {
     "name": "stdout",
     "output_type": "stream",
     "text": [
      "SVM Training Time: 0.0130 seconds\n",
      "SVM Testing Time: 0.0059 seconds\n",
      "SVM Accuracy: 0.86\n"
     ]
    }
   ],
   "source": [
    "# Support Vector Machine (SVM)\n",
    "\n",
    "svm_classifier = SVC()\n",
    "training_time_svm = timeit.timeit(lambda: svm_classifier.fit(X_train, y_train), number=1)\n",
    "testing_time_svm = timeit.timeit(lambda: svm_classifier.predict(X_test), number=1)\n",
    "\n",
    "y_pred_svm = svm_classifier.predict(X_test)\n",
    "accuracy_svm = accuracy_score(y_test, y_pred_svm)\n",
    "\n",
    "print(f\"SVM Training Time: {training_time_svm:.4f} seconds\")\n",
    "print(f\"SVM Testing Time: {testing_time_svm:.4f} seconds\")\n",
    "print(f\"SVM Accuracy: {accuracy_svm:.2f}\")\n",
    "\n",
    "acc_all.append(accuracy_svm)\n",
    "train_all.append(training_time_svm)\n",
    "test_all.append(testing_time_svm)"
   ]
  },
  {
   "cell_type": "code",
   "execution_count": 225,
   "id": "25bfd7a0",
   "metadata": {},
   "outputs": [
    {
     "name": "stdout",
     "output_type": "stream",
     "text": [
      "MLP Classifier Training Time: 2.7366 seconds\n",
      "MLP Classifier Testing Time: 0.0002 seconds\n",
      "MLP Classifier Accuracy: 0.86\n"
     ]
    }
   ],
   "source": [
    "# Multi-Layer Perceptron Classifier (MLPC)\n",
    "\n",
    "mlp_classifier = MLPClassifier(hidden_layer_sizes=(100,), max_iter=1400)\n",
    "training_time_mlp = timeit.timeit(lambda: mlp_classifier.fit(X_train, y_train), number=1)\n",
    "testing_time_mlp = timeit.timeit(lambda: mlp_classifier.predict(X_test), number=1)\n",
    "\n",
    "y_pred_mlp = mlp_classifier.predict(X_test)\n",
    "accuracy_mlp = accuracy_score(y_test, y_pred_mlp)\n",
    "\n",
    "print(f\"MLP Classifier Training Time: {training_time_mlp:.4f} seconds\")\n",
    "print(f\"MLP Classifier Testing Time: {testing_time_mlp:.4f} seconds\")\n",
    "print(f\"MLP Classifier Accuracy: {accuracy_mlp:.2f}\")\n",
    "\n",
    "acc_all.append(accuracy_svm)\n",
    "train_all.append(training_time_mlp)\n",
    "test_all.append(testing_time_mlp)"
   ]
  },
  {
   "cell_type": "code",
   "execution_count": 232,
   "id": "60878f0f",
   "metadata": {},
   "outputs": [
    {
     "name": "stdout",
     "output_type": "stream",
     "text": [
      "Random Forest BATI = 0.97\n",
      "Multi-Layer Perceptron BATI = 0.45\n"
     ]
    }
   ],
   "source": [
    "weight_accuracy = 0.5\n",
    "weight_time = 0.5\n",
    "\n",
    "rf_bati = weight_accuracy * ((accuracy_rf - min(acc_all)) / (max(acc_all) - min(acc_all))) + weight_time * (1 - (training_time_rf - min(train_all)) / (max(train_all) - min(train_all)))\n",
    "print(f\"Random Forest BATI = {rf_bati:.2f}\")\n",
    "                                                                                                         \n",
    "mlp_bati = (weight_accuracy * ((accuracy_mlp - min(acc_all)) / (max(acc_all) - min(acc_all))) +weight_time * (1 - (training_time_mlp - min(train_all)) / (max(train_all) - min(train_all))))\n",
    "print(f\"Multi-Layer Perceptron BATI = {mlp_bati:.2f}\")"
   ]
  }
 ],
 "metadata": {
  "kernelspec": {
   "display_name": "Python 3 (ipykernel)",
   "language": "python",
   "name": "python3"
  },
  "language_info": {
   "codemirror_mode": {
    "name": "ipython",
    "version": 3
   },
   "file_extension": ".py",
   "mimetype": "text/x-python",
   "name": "python",
   "nbconvert_exporter": "python",
   "pygments_lexer": "ipython3",
   "version": "3.11.5"
  }
 },
 "nbformat": 4,
 "nbformat_minor": 5
}
