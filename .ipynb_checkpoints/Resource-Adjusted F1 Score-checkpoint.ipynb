{
 "cells": [
  {
   "cell_type": "code",
   "execution_count": 68,
   "id": "c635dc93",
   "metadata": {},
   "outputs": [],
   "source": [
    "import pandas as pd\n",
    "from sklearn.model_selection import train_test_split\n",
    "from sklearn.svm import SVC\n",
    "from sklearn.metrics import accuracy_score, confusion_matrix, f1_score\n",
    "import time\n",
    "import psutil\n",
    "\n",
    "file_path = 'D:\\Programming\\Datasets\\healthcare-dataset-stroke-data.csv'\n",
    "    \n",
    "df = pd.read_csv(file_path)"
   ]
  },
  {
   "cell_type": "code",
   "execution_count": 62,
   "id": "54f6d873",
   "metadata": {},
   "outputs": [],
   "source": [
    "features = ['age', 'hypertension', 'heart_disease', 'avg_glucose_level']\n",
    "target = 'stroke'\n",
    "\n",
    "X = df[features]\n",
    "y = df[target]\n",
    "\n",
    "X_train, X_test, y_train, y_test = train_test_split(X, y, test_size=0.3, random_state=42)"
   ]
  },
  {
   "cell_type": "code",
   "execution_count": 63,
   "id": "95112331",
   "metadata": {},
   "outputs": [],
   "source": [
    "svm_classifier = SVC(kernel='linear')\n",
    "\n",
    "start_training_time = time.time()\n",
    "cpu_usage_before_training = psutil.cpu_percent(interval=None)\n",
    "\n",
    "svm_classifier.fit(X_train, y_train)\n",
    "\n",
    "end_training_time = time.time()\n",
    "training_time_duration = end_training_time - start_training_time\n",
    "cpu_usage_after_training = psutil.cpu_percent(interval=None)"
   ]
  },
  {
   "cell_type": "code",
   "execution_count": 64,
   "id": "085279e6",
   "metadata": {},
   "outputs": [],
   "source": [
    "cpu_usage_before_testing = psutil.cpu_percent(interval=None)\n",
    "start_testing_time = time.perf_counter()\n",
    "\n",
    "# Predict on the test set\n",
    "y_pred = svm_classifier.predict(X_test)\n",
    "\n",
    "end_testing_time = time.perf_counter()\n",
    "testing_time_duration = end_testing_time - start_testing_time\n",
    "cpu_usage_after_testing = psutil.cpu_percent(interval=None)"
   ]
  },
  {
   "cell_type": "code",
   "execution_count": 98,
   "id": "5dfc197c",
   "metadata": {},
   "outputs": [
    {
     "name": "stdout",
     "output_type": "stream",
     "text": [
      "\n",
      "Confusion Matrix:\n",
      "[[1444    0]\n",
      " [  89    0]]\n",
      "Accuracy: 94.19%\n",
      "F1 Score: 0.00%\n",
      "Training Time: 32.38232136 seconds\n",
      "Testing Time: 0.01814570 seconds\n",
      "\n",
      "CPU usage during Training:\n",
      "CPU Usage Before Training: 2.3%\n",
      "CPU Usage After Training: 10.6%\n",
      "\n",
      "CPU and RAM usage during Testing:\n",
      "CPU Usage Before Testing: 0.0%\n",
      "CPU Usage After Testing: 46.2%\n",
      "Resource-Adjusted F1 Score (CPU): 0.47\n",
      "Resource-Adjusted F1 Score (CPU) - Weighted: 0.72\n"
     ]
    }
   ],
   "source": [
    "print(\"\\nConfusion Matrix:\")\n",
    "print(confusion_matrix(y_test, y_pred))\n",
    "\n",
    "accuracy = accuracy_score(y_test, y_pred)\n",
    "print(f\"Accuracy: {accuracy * 100:.2f}%\")\n",
    "\n",
    "f1 = f1_score(y_test, y_pred)\n",
    "print(f\"F1 Score: {f1 * 100:.2f}%\")\n",
    "\n",
    "print(f\"Training Time: {training_time_duration:.8f} seconds\")\n",
    "print(f\"Testing Time: {testing_time_duration:.8f} seconds\")\n",
    "\n",
    "# Print CPU and RAM usage during training and testing\n",
    "print(\"\\nCPU usage during Training:\")\n",
    "print(f\"CPU Usage Before Training: {cpu_usage_before_training}%\")\n",
    "print(f\"CPU Usage After Training: {cpu_usage_after_training}%\")\n",
    "\n",
    "print(\"\\nCPU and RAM usage during Testing:\")\n",
    "print(f\"CPU Usage Before Testing: {cpu_usage_before_testing}%\")\n",
    "print(f\"CPU Usage After Testing: {cpu_usage_after_testing}%\")\n",
    "\n",
    "current_cpu_usage = 50\n",
    "max_cpu_usage = 80\n",
    "min_cpu_usage = 20\n",
    "\n",
    "RAFS_CPU = accuracy*(1-((current_cpu_usage-min_cpu_usage)/(max_cpu_usage-min_cpu_usage)))\n",
    "RAFS_CPU2 = (0.5*accuracy)+(0.5*(1-((current_cpu_usage-min_cpu_usage)/(max_cpu_usage-min_cpu_usage))))\n",
    "\n",
    "print(f\"Resource-Adjusted F1 Score (CPU): {RAFS_CPU:.2f}\")\n",
    "print(f\"Resource-Adjusted F1 Score (CPU) - Weighted: {RAFS_CPU2:.2f}\")"
   ]
  }
 ],
 "metadata": {
  "kernelspec": {
   "display_name": "Python 3 (ipykernel)",
   "language": "python",
   "name": "python3"
  },
  "language_info": {
   "codemirror_mode": {
    "name": "ipython",
    "version": 3
   },
   "file_extension": ".py",
   "mimetype": "text/x-python",
   "name": "python",
   "nbconvert_exporter": "python",
   "pygments_lexer": "ipython3",
   "version": "3.11.5"
  }
 },
 "nbformat": 4,
 "nbformat_minor": 5
}
