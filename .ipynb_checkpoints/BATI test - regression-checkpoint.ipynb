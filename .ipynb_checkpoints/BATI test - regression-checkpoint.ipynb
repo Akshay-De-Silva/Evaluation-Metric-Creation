{
 "cells": [
  {
   "cell_type": "code",
   "execution_count": 1,
   "id": "8e6edc56",
   "metadata": {},
   "outputs": [],
   "source": [
    "import numpy as np\n",
    "import pandas as pd\n",
    "from sklearn.model_selection import train_test_split\n",
    "from sklearn.preprocessing import StandardScaler\n",
    "from sklearn.metrics import mean_squared_error, r2_score\n",
    "from sklearn.preprocessing import StandardScaler\n",
    "import timeit\n",
    "\n",
    "weight_rmse = 0.5\n",
    "weight_time = 0.5\n",
    "\n",
    "#Importing Dataset \n",
    "dataset=pd.read_csv(r'D:\\Programming\\Datasets\\Regression\\Bitcoin\\bitcoin.csv')\n",
    "\n",
    "X = dataset[['Open', 'High', 'Low', 'Close', 'Volume_(BTC)', 'Volume_(Currency)']]\n",
    "y = dataset[['Weighted_Price']]\n",
    "\n",
    "X_train, X_test, y_train, y_test = train_test_split(X, y, test_size=0.2, random_state=42)\n",
    "\n",
    "scaler = StandardScaler()\n",
    "X_train_scaled = scaler.fit_transform(X_train)\n",
    "X_test_scaled = scaler.transform(X_test)\n",
    "\n",
    "y_train = np.ravel(y_train)\n",
    "y_test = np.ravel(y_test)\n",
    "\n",
    "rmse_all = []\n",
    "r2_all = []\n",
    "train_all = []\n",
    "test_all = []"
   ]
  },
  {
   "cell_type": "code",
   "execution_count": 2,
   "id": "200a9df1",
   "metadata": {},
   "outputs": [
    {
     "name": "stdout",
     "output_type": "stream",
     "text": [
      "Linear Regression Results:\n",
      "Mean Squared Error: 0.03713533712519192\n",
      "Root Mean Squared Error: 0.19270531161644694\n",
      "R-squared: 0.9999792088092825\n",
      "Training Time: 0.0162 seconds\n",
      "Testing Time: 0.0006 seconds\n"
     ]
    }
   ],
   "source": [
    "# Linear Regression\n",
    "from sklearn.linear_model import LinearRegression\n",
    "\n",
    "linear_model = LinearRegression()\n",
    "training_time_lr = timeit.timeit(lambda: linear_model.fit(X_train_scaled, y_train), number=1)\n",
    "testing_time_lr = timeit.timeit(lambda: linear_model.predict(X_test_scaled), number=1)\n",
    "\n",
    "y_pred_lr = linear_model.predict(X_test_scaled)\n",
    "\n",
    "mse_lr = mean_squared_error(y_test, y_pred_lr)\n",
    "r2_lr = r2_score(y_test, y_pred_lr)\n",
    "rmse_lr = np.sqrt(mse_lr)\n",
    "\n",
    "print('Linear Regression Results:')\n",
    "print(f'Mean Squared Error: {mse_lr}')\n",
    "print(f'Root Mean Squared Error: {rmse_lr}')\n",
    "print(f'R-squared: {r2_lr}')\n",
    "print(f\"Training Time: {training_time_lr:.4f} seconds\")\n",
    "print(f\"Testing Time: {testing_time_lr:.4f} seconds\")\n",
    "\n",
    "rmse_all.append(rmse_lr)\n",
    "r2_all.append(r2_lr)\n",
    "train_all.append(training_time_lr)\n",
    "test_all.append(testing_time_lr)"
   ]
  },
  {
   "cell_type": "code",
   "execution_count": 3,
   "id": "c4838f2c",
   "metadata": {},
   "outputs": [],
   "source": [
    "#Testing for overfitting\n",
    "\n",
    "#y_train_pred = model.predict(X_train_scaled)\n",
    "#mse_train = mean_squared_error(y_train, y_train_pred)\n",
    "#r2_train = r2_score(y_train, y_train_pred)\n",
    "#rmse_train = np.sqrt(mse_train)\n",
    "\n",
    "#print(f'Training set - MSE: {mse_train}, R-squared: {r2_train}, RMSE: {rmse_train}')\n",
    "#print(f'Test set - MSE: {mse}, R-squared: {r2}, RMSE: {rmse}')"
   ]
  },
  {
   "cell_type": "code",
   "execution_count": 4,
   "id": "a57d9a48",
   "metadata": {},
   "outputs": [
    {
     "name": "stdout",
     "output_type": "stream",
     "text": [
      "Ridge Regression Results:\n",
      "Mean Squared Error: 0.03701086112057275\n",
      "Root Mean Squared Error: 0.19238207068376395\n",
      "R-squared: 0.9999792785004326\n",
      "Training Time: 0.0086 seconds\n",
      "Testing Time: 0.0009 seconds\n"
     ]
    }
   ],
   "source": [
    "# Ridge Regression\n",
    "from sklearn.linear_model import Ridge\n",
    "\n",
    "ridge_model = Ridge()\n",
    "training_time_ridge = timeit.timeit(lambda: ridge_model.fit(X_train_scaled, y_train), number=1)\n",
    "testing_time_ridge = timeit.timeit(lambda: ridge_model.predict(X_test_scaled), number=1)\n",
    "\n",
    "y_pred_ridge = ridge_model.predict(X_test_scaled)\n",
    "\n",
    "mse_ridge = mean_squared_error(y_test, y_pred_ridge)\n",
    "r2_ridge = r2_score(y_test, y_pred_ridge)\n",
    "rmse_ridge = np.sqrt(mse_ridge)\n",
    "\n",
    "print('Ridge Regression Results:')\n",
    "print(f'Mean Squared Error: {mse_ridge}')\n",
    "print(f'Root Mean Squared Error: {rmse_ridge}')\n",
    "print(f'R-squared: {r2_ridge}')\n",
    "print(f\"Training Time: {training_time_ridge:.4f} seconds\")\n",
    "print(f\"Testing Time: {testing_time_ridge:.4f} seconds\")\n",
    "\n",
    "rmse_all.append(rmse_ridge)\n",
    "r2_all.append(r2_ridge)\n",
    "train_all.append(training_time_ridge)\n",
    "test_all.append(testing_time_ridge)\n"
   ]
  },
  {
   "cell_type": "code",
   "execution_count": 5,
   "id": "ffbd2a00",
   "metadata": {},
   "outputs": [
    {
     "name": "stdout",
     "output_type": "stream",
     "text": [
      "Lasso Regression Results:\n",
      "Mean Squared Error: 1.0880984850565492\n",
      "Root Mean Squared Error: 1.0431195928830737\n",
      "R-squared: 0.9993907995759944\n",
      "Training Time: 0.0130 seconds\n",
      "Testing Time: 0.0005 seconds\n"
     ]
    }
   ],
   "source": [
    "# Lasso Regression\n",
    "from sklearn.linear_model import Lasso\n",
    "\n",
    "lasso_model = Lasso()\n",
    "training_time_lasso = timeit.timeit(lambda: lasso_model.fit(X_train_scaled, y_train), number=1)\n",
    "testing_time_lasso = timeit.timeit(lambda: lasso_model.predict(X_test_scaled), number=1)\n",
    "\n",
    "y_pred_lasso = lasso_model.predict(X_test_scaled)\n",
    "\n",
    "mse_lasso = mean_squared_error(y_test, y_pred_lasso)\n",
    "r2_lasso = r2_score(y_test, y_pred_lasso)\n",
    "rmse_lasso = np.sqrt(mse_lasso)\n",
    "\n",
    "print('Lasso Regression Results:')\n",
    "print(f'Mean Squared Error: {mse_lasso}')\n",
    "print(f'Root Mean Squared Error: {rmse_lasso}')\n",
    "print(f'R-squared: {r2_lasso}')\n",
    "print(f\"Training Time: {training_time_lasso:.4f} seconds\")\n",
    "print(f\"Testing Time: {testing_time_lasso:.4f} seconds\")\n",
    "\n",
    "rmse_all.append(rmse_lasso)\n",
    "r2_all.append(r2_lasso)\n",
    "train_all.append(training_time_lasso)\n",
    "test_all.append(testing_time_lasso)\n"
   ]
  },
  {
   "cell_type": "code",
   "execution_count": 6,
   "id": "83037f39",
   "metadata": {},
   "outputs": [
    {
     "name": "stdout",
     "output_type": "stream",
     "text": [
      "Bayesian Ridge Regression Results:\n",
      "Mean Squared Error: 0.03713526338493987\n",
      "Root Mean Squared Error: 0.1927051202872925\n",
      "R-squared: 0.9999792088505679\n",
      "Training Time: 0.0275 seconds\n",
      "Testing Time: 0.0007 seconds\n"
     ]
    }
   ],
   "source": [
    "# Bayesian Ridge Regression\n",
    "from sklearn.linear_model import BayesianRidge\n",
    "\n",
    "bayesian_ridge_model = BayesianRidge()\n",
    "training_time_bayesian_ridge = timeit.timeit(lambda: bayesian_ridge_model.fit(X_train_scaled, y_train), number=1)\n",
    "testing_time_bayesian_ridge = timeit.timeit(lambda: bayesian_ridge_model.predict(X_test_scaled), number=1)\n",
    "\n",
    "y_pred_bayesian_ridge = bayesian_ridge_model.predict(X_test_scaled)\n",
    "\n",
    "mse_bayesian_ridge = mean_squared_error(y_test, y_pred_bayesian_ridge)\n",
    "r2_bayesian_ridge = r2_score(y_test, y_pred_bayesian_ridge)\n",
    "rmse_bayesian_ridge = np.sqrt(mse_bayesian_ridge)\n",
    "\n",
    "print('Bayesian Ridge Regression Results:')\n",
    "print(f'Mean Squared Error: {mse_bayesian_ridge}')\n",
    "print(f'Root Mean Squared Error: {rmse_bayesian_ridge}')\n",
    "print(f'R-squared: {r2_bayesian_ridge}')\n",
    "print(f\"Training Time: {training_time_bayesian_ridge:.4f} seconds\")\n",
    "print(f\"Testing Time: {testing_time_bayesian_ridge:.4f} seconds\")\n",
    "\n",
    "rmse_all.append(rmse_bayesian_ridge)\n",
    "r2_all.append(r2_bayesian_ridge)\n",
    "train_all.append(training_time_bayesian_ridge)\n",
    "test_all.append(testing_time_bayesian_ridge)\n"
   ]
  },
  {
   "cell_type": "code",
   "execution_count": 7,
   "id": "f569cdb5",
   "metadata": {},
   "outputs": [
    {
     "name": "stdout",
     "output_type": "stream",
     "text": [
      "Elastic Net Regression Results:\n",
      "Mean Squared Error: 26.43139929730486\n",
      "Root Mean Squared Error: 5.141147663441001\n",
      "R-squared: 0.985201689111678\n",
      "Training Time: 0.0181 seconds\n",
      "Testing Time: 0.0005 seconds\n"
     ]
    }
   ],
   "source": [
    "# Elastic Net Regression\n",
    "from sklearn.linear_model import ElasticNet\n",
    "\n",
    "elastic_net_model = ElasticNet()\n",
    "training_time_en = timeit.timeit(lambda: elastic_net_model.fit(X_train_scaled, y_train), number=1)\n",
    "testing_time_en = timeit.timeit(lambda: elastic_net_model.predict(X_test_scaled), number=1)\n",
    "\n",
    "y_pred_en = elastic_net_model.predict(X_test_scaled)\n",
    "\n",
    "mse_en = mean_squared_error(y_test, y_pred_en)\n",
    "r2_en = r2_score(y_test, y_pred_en)\n",
    "rmse_en = np.sqrt(mse_en)\n",
    "\n",
    "print('Elastic Net Regression Results:')\n",
    "print(f'Mean Squared Error: {mse_en}')\n",
    "print(f'Root Mean Squared Error: {rmse_en}')\n",
    "print(f'R-squared: {r2_en}')\n",
    "print(f\"Training Time: {training_time_en:.4f} seconds\")\n",
    "print(f\"Testing Time: {testing_time_en:.4f} seconds\")\n",
    "\n",
    "rmse_all.append(rmse_en)\n",
    "r2_all.append(r2_en)\n",
    "train_all.append(training_time_en)\n",
    "test_all.append(testing_time_en)"
   ]
  },
  {
   "cell_type": "code",
   "execution_count": 8,
   "id": "5c2364fd",
   "metadata": {},
   "outputs": [
    {
     "name": "stdout",
     "output_type": "stream",
     "text": [
      "Linear Regression BATI = 0.80\n",
      "Ridge Regression BATI = 1.00\n",
      "Lasso Regression BATI = 0.80\n",
      "Bayesian Ridge Regression BATI = 0.50\n",
      "Elastic Net Regression BATI = 0.25\n",
      "max rmse 5.141147663441001\n",
      "min rmse 0.19238207068376395\n",
      "max r2 0.9999792785004326\n",
      "min r2 0.985201689111678\n"
     ]
    }
   ],
   "source": [
    "lr_bati = weight_rmse * (1 - (rmse_lr - min(rmse_all)) / (max(rmse_all) - min(rmse_all))) + weight_time * (1 - (training_time_lr - min(train_all)) / (max(train_all) - min(train_all)))\n",
    "print(f\"Linear Regression BATI = {lr_bati:.2f}\")\n",
    "\n",
    "ridge_bati = weight_rmse * (1 - (rmse_ridge - min(rmse_all)) / (max(rmse_all) - min(rmse_all))) + weight_time * (1 - (training_time_ridge - min(train_all)) / (max(train_all) - min(train_all)))\n",
    "print(f\"Ridge Regression BATI = {ridge_bati:.2f}\")\n",
    "\n",
    "lasso_bati = weight_rmse * (1 - (rmse_lasso - min(rmse_all)) / (max(rmse_all) - min(rmse_all))) + weight_time * (1 - (training_time_lasso - min(train_all)) / (max(train_all) - min(train_all)))\n",
    "print(f\"Lasso Regression BATI = {lasso_bati:.2f}\")\n",
    "\n",
    "bayesian_ridge_bati = weight_rmse * (1 - (rmse_bayesian_ridge - min(rmse_all)) / (max(rmse_all) - min(rmse_all))) + weight_time * (1 - (training_time_bayesian_ridge - min(train_all)) / (max(train_all) - min(train_all)))\n",
    "print(f\"Bayesian Ridge Regression BATI = {bayesian_ridge_bati:.2f}\")\n",
    "\n",
    "elastic_net_regression_bati = weight_rmse * (1 - (rmse_en - min(rmse_all)) / (max(rmse_all) - min(rmse_all))) + weight_time * (1 - (training_time_en - min(train_all)) / (max(train_all) - min(train_all)))\n",
    "print(f\"Elastic Net Regression BATI = {elastic_net_regression_bati:.2f}\")\n",
    "\n",
    "print(f\"max rmse {max(rmse_all)}\")\n",
    "print(f\"min rmse {min(rmse_all)}\")\n",
    "print(f\"max r2 {max(r2_all)}\")\n",
    "print(f\"min r2 {min(r2_all)}\")\n",
    "print(f\"max time {max(train_all)}\")\n",
    "print(f\"min time {min(train_all)}\")"
   ]
  },
  {
   "cell_type": "code",
   "execution_count": null,
   "id": "3c1b7942",
   "metadata": {},
   "outputs": [],
   "source": [
    "# Support Vector Regression (SVR)\n",
    "from sklearn.svm import SVR\n",
    "\n",
    "svr_model = SVR()\n",
    "training_time_svr = timeit.timeit(lambda: svr_model.fit(X_train_scaled, y_train), number=1)\n",
    "testing_time_svr = timeit.timeit(lambda: svr_model.predict(X_test_scaled), number=1)\n",
    "\n",
    "y_pred_svr = svr_model.predict(X_test_scaled)\n",
    "\n",
    "mse_svr = mean_squared_error(y_test, y_pred_svr)\n",
    "r2_svr = r2_score(y_test, y_pred_svr)\n",
    "rmse_svr = np.sqrt(mse_svr)\n",
    "\n",
    "print('Support Vector Regression (SVR) Results:')\n",
    "print(f'Mean Squared Error: {mse_svr}')\n",
    "print(f'Root Mean Squared Error: {rmse_svr}')\n",
    "print(f'R-squared: {r2_svr}')\n",
    "print(f\"Training Time: {training_time_svr:.4f} seconds\")\n",
    "print(f\"Testing Time: {testing_time_svr:.4f} seconds\")\n",
    "\n",
    "rmse_all.append(rmse_svr)\n",
    "r2_all.append(r2_svr)\n",
    "train_all.append(training_time_svr)\n",
    "test_all.append(testing_time_svr)\n"
   ]
  },
  {
   "cell_type": "code",
   "execution_count": null,
   "id": "9a6c8ce0",
   "metadata": {},
   "outputs": [],
   "source": [
    "# Random Forest Regression\n",
    "from sklearn.ensemble import RandomForestRegressor\n",
    "\n",
    "random_forest_model = RandomForestRegressor()\n",
    "training_time_rf = timeit.timeit(lambda: random_forest_model.fit(X_train_scaled, y_train), number=1)\n",
    "testing_time_rf = timeit.timeit(lambda: random_forest_model.predict(X_test_scaled), number=1)\n",
    "\n",
    "y_pred_rf = random_forest_model.predict(X_test_scaled)\n",
    "\n",
    "mse_rf = mean_squared_error(y_test, y_pred_rf)\n",
    "r2_rf = r2_score(y_test, y_pred_rf)\n",
    "rmse_rf = np.sqrt(mse_rf)\n",
    "\n",
    "print('Random Forest Regression Results:')\n",
    "print(f'Mean Squared Error: {mse_rf}')\n",
    "print(f'Root Mean Squared Error: {rmse_rf}')\n",
    "print(f'R-squared: {r2_rf}')\n",
    "print(f\"Training Time: {training_time_rf:.4f} seconds\")\n",
    "print(f\"Testing Time: {testing_time_rf:.4f} seconds\")\n",
    "\n",
    "rmse_all.append(rmse_rf)\n",
    "r2_all.append(r2_rf)\n",
    "train_all.append(training_time_rf)\n",
    "test_all.append(testing_time_rf)\n"
   ]
  },
  {
   "cell_type": "code",
   "execution_count": null,
   "id": "f60ccc3d",
   "metadata": {},
   "outputs": [],
   "source": [
    "# Multi-Layer Perceptron Regressor (MLPR)\n",
    "from sklearn.neural_network import MLPRegressor\n",
    "\n",
    "mlp_model = MLPRegressor()\n",
    "training_time_mlp = timeit.timeit(lambda: mlp_model.fit(X_train_scaled, y_train), number=1)\n",
    "testing_time_mlp = timeit.timeit(lambda: mlp_model.predict(X_test_scaled), number=1)\n",
    "\n",
    "y_pred_mlp = mlp_model.predict(X_test_scaled)\n",
    "\n",
    "mse_mlp = mean_squared_error(y_test, y_pred_mlp)\n",
    "r2_mlp = r2_score(y_test, y_pred_mlp)\n",
    "rmse_mlp = np.sqrt(mse_mlp)\n",
    "\n",
    "print('Multi-Layer Perceptron Regressor (MLPR) Results:')\n",
    "print(f'Mean Squared Error: {mse_mlp}')\n",
    "print(f'Root Mean Squared Error: {rmse_mlp}')\n",
    "print(f'R-squared: {r2_mlp}')\n",
    "print(f\"Training Time: {training_time_mlp:.4f} seconds\")\n",
    "print(f\"Testing Time: {testing_time_mlp:.4f} seconds\")\n",
    "\n",
    "rmse_all.append(rmse_mlp)\n",
    "r2_all.append(r2_mlp)\n",
    "train_all.append(training_time_mlp)\n",
    "test_all.append(testing_time_mlp)\n"
   ]
  },
  {
   "cell_type": "code",
   "execution_count": null,
   "id": "773f5e9a",
   "metadata": {},
   "outputs": [],
   "source": [
    "en_brmseti = weight_rmse * (1 - (rmse_en - min(rmse_all)) / (max(rmse_all) - min(rmse_all))) + weight_time * (1 - (training_time_en - min(train_all)) / (max(train_all) - min(train_all)))\n",
    "print(f\"Elastic Net Regression BRMSETI = {en_brmseti:.2f}\")\n",
    "\n",
    "svr_brmseti = weight_rmse * ((rmse_svr - min(rmse_all)) / (max(rmse_all) - min(rmse_all))) + weight_time * (1 - (training_time_svr - min(train_all)) / (max(train_all) - min(train_all)))\n",
    "print(f\"Support Vector Regression (SVR) BRMSETI = {svr_brmseti:.2f}\")\n",
    "\n",
    "rf_brmseti = weight_rmse * ((rmse_rf - min(rmse_all)) / (max(rmse_all) - min(rmse_all))) + weight_time * (1 - (training_time_rf - min(train_all)) / (max(train_all) - min(train_all)))\n",
    "print(f\"Random Forest Regression BRMSETI = {rf_brmseti:.2f}\")\n",
    "\n",
    "mlp_brmseti = weight_rmse * ((rmse_mlp - min(rmse_all)) / (max(rmse_all) - min(rmse_all))) + weight_time * (1 - (training_time_mlp - min(train_all)) / (max(train_all) - min(train_all)))\n",
    "print(f\"Multi-Layer Perceptron Regressor (MLPR) BRMSETI = {mlp_brmseti:.2f}\")"
   ]
  }
 ],
 "metadata": {
  "kernelspec": {
   "display_name": "Python 3 (ipykernel)",
   "language": "python",
   "name": "python3"
  },
  "language_info": {
   "codemirror_mode": {
    "name": "ipython",
    "version": 3
   },
   "file_extension": ".py",
   "mimetype": "text/x-python",
   "name": "python",
   "nbconvert_exporter": "python",
   "pygments_lexer": "ipython3",
   "version": "3.11.5"
  }
 },
 "nbformat": 4,
 "nbformat_minor": 5
}
