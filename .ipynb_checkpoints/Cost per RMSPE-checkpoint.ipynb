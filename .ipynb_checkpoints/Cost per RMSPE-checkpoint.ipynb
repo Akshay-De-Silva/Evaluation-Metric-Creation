{
 "cells": [
  {
   "cell_type": "code",
   "execution_count": 4,
   "id": "7648c0bc",
   "metadata": {},
   "outputs": [],
   "source": [
    "import numpy as np\n",
    "import pandas as pd\n",
    "from sklearn.model_selection import train_test_split\n",
    "from sklearn.preprocessing import StandardScaler\n",
    "from sklearn.metrics import mean_squared_error, r2_score\n",
    "\n",
    "#Importing Dataset\n",
    "dataset=pd.read_csv(r'D:\\Programming\\Datasets\\Regression\\Bitcoin\\bitstampUSD_1-min_data_2012-01-01_to_2021-03-31.csv')\n",
    "\n",
    "dataset = dataset.dropna()\n",
    "\n",
    "X = dataset[['Open', 'High', 'Low', 'Close', 'Volume_(BTC)', 'Volume_(Currency)']]\n",
    "y = dataset[['Weighted_Price']]\n",
    "\n",
    "X_train, X_test, y_train, y_test = train_test_split(X, y, test_size=0.2, random_state=42)\n",
    "\n",
    "scaler = StandardScaler()\n",
    "X_train_scaled = scaler.fit_transform(X_train)\n",
    "X_test_scaled = scaler.transform(X_test)\n",
    "\n",
    "y_train = np.ravel(y_train)\n",
    "y_test = np.ravel(y_test)"
   ]
  },
  {
   "cell_type": "code",
   "execution_count": 5,
   "id": "7bc6aa8d",
   "metadata": {},
   "outputs": [
    {
     "name": "stdout",
     "output_type": "stream",
     "text": [
      "Ridge Regression Results:\n",
      "Mean Squared Error: 17.305029089206332\n",
      "Root Mean Squared Error: 4.1599313803482785\n",
      "RMSPE: 0.1592559217885287%\n",
      "R-squared: 0.9999997846515809\n"
     ]
    }
   ],
   "source": [
    "# Ridge Regression\n",
    "from sklearn.linear_model import Ridge\n",
    "\n",
    "ridge_model = Ridge()\n",
    "ridge_model.fit(X_train_scaled, y_train)\n",
    "y_pred_ridge = ridge_model.predict(X_test_scaled)\n",
    "\n",
    "mse_ridge = mean_squared_error(y_test, y_pred_ridge)\n",
    "r2_ridge = r2_score(y_test, y_pred_ridge)\n",
    "rmse_ridge = np.sqrt(mse_ridge)\n",
    "rmspe_ridge = np.sqrt(np.mean(((y_test - y_pred_ridge) / y_test) ** 2)) * 100\n",
    "\n",
    "print('Ridge Regression Results:')\n",
    "print(f'Mean Squared Error: {mse_ridge}')\n",
    "print(f'Root Mean Squared Error: {rmse_ridge}')\n",
    "print(f'RMSPE: {rmspe_ridge}%')\n",
    "print(f'R-squared: {r2_ridge}')"
   ]
  },
  {
   "cell_type": "code",
   "execution_count": 8,
   "id": "863c6233",
   "metadata": {},
   "outputs": [
    {
     "name": "stdout",
     "output_type": "stream",
     "text": [
      "Cost per RMSPE: 159255.9217885287\n"
     ]
    }
   ],
   "source": [
    "#Administrator set amount based on how much it would potentially cost per percentage difference in predicition value\n",
    "cost_per_percent = 1000000\n",
    "\n",
    "#Cost per RMSPE\n",
    "crmspe = cost_per_percent * rmspe_ridge\n",
    "print(f'Cost per RMSPE: {crmspe}')"
   ]
  }
 ],
 "metadata": {
  "kernelspec": {
   "display_name": "Python 3 (ipykernel)",
   "language": "python",
   "name": "python3"
  },
  "language_info": {
   "codemirror_mode": {
    "name": "ipython",
    "version": 3
   },
   "file_extension": ".py",
   "mimetype": "text/x-python",
   "name": "python",
   "nbconvert_exporter": "python",
   "pygments_lexer": "ipython3",
   "version": "3.11.5"
  }
 },
 "nbformat": 4,
 "nbformat_minor": 5
}
