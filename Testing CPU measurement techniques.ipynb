{
 "cells": [
  {
   "cell_type": "code",
   "execution_count": 294,
   "id": "69bee370",
   "metadata": {},
   "outputs": [],
   "source": [
    "import os\n",
    "import psutil\n",
    "import time\n",
    "from sklearn.linear_model import LogisticRegression\n",
    "from sklearn.datasets import load_iris\n",
    "from sklearn.model_selection import train_test_split"
   ]
  },
  {
   "cell_type": "code",
   "execution_count": 295,
   "id": "781d9e4e",
   "metadata": {},
   "outputs": [],
   "source": [
    "def get_cpu_percent():\n",
    "    pid = os.getpid()\n",
    "    py = psutil.Process(pid)\n",
    "    return py.cpu_percent(interval=1)"
   ]
  },
  {
   "cell_type": "code",
   "execution_count": 296,
   "id": "a187a60c",
   "metadata": {},
   "outputs": [],
   "source": [
    "def normalize(value, min_val, max_val):\n",
    "    return (value - min_val) / (max_val - min_val)"
   ]
  },
  {
   "cell_type": "code",
   "execution_count": 297,
   "id": "608be541",
   "metadata": {},
   "outputs": [],
   "source": [
    "# Load the iris dataset\n",
    "iris = load_iris()\n",
    "X_train, X_test, y_train, y_test = train_test_split(iris.data, iris.target, test_size=0.2, random_state=42)\n",
    "\n",
    "# Initialize the model\n",
    "model = LogisticRegression(max_iter=1000, n_jobs=12)\n",
    "\n",
    "# List to store CPU usage\n",
    "cpu_usages = []\n",
    "cpu_usages2 = []\n",
    "min_cpu_usage = float('inf')\n",
    "max_cpu_usage = float('-inf')\n",
    "\n",
    "# Train the model\n",
    "# Calculate CPU usage after each epoch\n",
    "for _ in range(10): # assuming 10 epochs\n",
    "    cpu_before = psutil.cpu_percent(interval=None)\n",
    "    model.fit(X_train, y_train)\n",
    "    time.sleep(1)\n",
    "    cpu_after = psutil.cpu_percent(interval=None)\n",
    "    \n",
    "    cpu_usages.append(cpu_before)\n",
    "    cpu_usages2.append(cpu_after)\n",
    "    \n",
    "\n",
    "#start_time = time.time()\n",
    "#cpu_diff = cpu_after - cpu_before\n",
    "#end_time = time.time()\n",
    "#training_time = end_time - start_time\n",
    "#pid = psutil.Process().pid\n",
    "#process_cpu_percentage = psutil.Process(pid).cpu_percent(interval=training_time)\n",
    "#cpu_percentage = psutil.cpu_percent(interval=training_time, percpu=True)\n",
    "#cpu_usage = get_cpu_percent()\n",
    "#cpu_usages.append(cpu_usage)\n",
    "#min_cpu_usage = min(min_cpu_usage, cpu_usage)\n",
    "#max_cpu_usage = max(max_cpu_usage, cpu_usage)\n",
    "#time.sleep(3)\n",
    "# Normalize CPU usage\n",
    "#normalized_cpu_usages = [normalize(cpu_usage, min_cpu_usage, max_cpu_usage) for cpu_usage in cpu_usages]"
   ]
  },
  {
   "cell_type": "code",
   "execution_count": 298,
   "id": "d4e7b818",
   "metadata": {
    "scrolled": true
   },
   "outputs": [
    {
     "data": {
      "text/plain": [
       "[4.4, 0.0, 0.0, 0.0, 0.0, 0.0, 0.0, 0.0, 0.0, 0.0]"
      ]
     },
     "execution_count": 298,
     "metadata": {},
     "output_type": "execute_result"
    }
   ],
   "source": [
    "cpu_usages"
   ]
  },
  {
   "cell_type": "code",
   "execution_count": 299,
   "id": "e4db9389",
   "metadata": {},
   "outputs": [
    {
     "data": {
      "text/plain": [
       "[7.8, 5.1, 5.9, 5.4, 5.7, 8.5, 15.3, 3.6, 4.6, 7.2]"
      ]
     },
     "execution_count": 299,
     "metadata": {},
     "output_type": "execute_result"
    }
   ],
   "source": [
    "cpu_usages2"
   ]
  }
 ],
 "metadata": {
  "kernelspec": {
   "display_name": "Python 3 (ipykernel)",
   "language": "python",
   "name": "python3"
  },
  "language_info": {
   "codemirror_mode": {
    "name": "ipython",
    "version": 3
   },
   "file_extension": ".py",
   "mimetype": "text/x-python",
   "name": "python",
   "nbconvert_exporter": "python",
   "pygments_lexer": "ipython3",
   "version": "3.11.5"
  }
 },
 "nbformat": 4,
 "nbformat_minor": 5
}
