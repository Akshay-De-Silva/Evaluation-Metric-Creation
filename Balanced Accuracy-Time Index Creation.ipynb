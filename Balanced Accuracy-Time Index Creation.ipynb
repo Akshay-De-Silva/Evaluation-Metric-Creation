{
 "cells": [
  {
   "cell_type": "code",
   "execution_count": 179,
   "id": "c4b39929",
   "metadata": {},
   "outputs": [],
   "source": [
    "from sklearn import datasets\n",
    "from sklearn.model_selection import train_test_split\n",
    "from sklearn.svm import SVC\n",
    "from sklearn.metrics import accuracy_score\n",
    "import time\n",
    "import psutil\n",
    "import os"
   ]
  },
  {
   "cell_type": "code",
   "execution_count": 180,
   "id": "b0be0a16",
   "metadata": {},
   "outputs": [],
   "source": [
    "iris = datasets.load_iris()\n",
    "X = iris.data\n",
    "y = iris.target\n"
   ]
  },
  {
   "cell_type": "code",
   "execution_count": 181,
   "id": "a38c2575",
   "metadata": {},
   "outputs": [],
   "source": [
    "X_train, X_test, y_train, y_test = train_test_split(X, y, test_size=0.85, random_state=42)"
   ]
  },
  {
   "cell_type": "code",
   "execution_count": 182,
   "id": "94c0106f",
   "metadata": {},
   "outputs": [],
   "source": [
    "svm_classifier = SVC(kernel='linear')"
   ]
  },
  {
   "cell_type": "code",
   "execution_count": 183,
   "id": "e4559145",
   "metadata": {},
   "outputs": [],
   "source": [
    "start_training_time = time.time()\n",
    "cpu_usage_before_training = psutil.cpu_percent(interval=None)\n",
    "ram_usage_before_training = psutil.virtual_memory().used"
   ]
  },
  {
   "cell_type": "code",
   "execution_count": 184,
   "id": "b7622769",
   "metadata": {},
   "outputs": [
    {
     "data": {
      "text/html": [
       "<style>#sk-container-id-17 {color: black;}#sk-container-id-17 pre{padding: 0;}#sk-container-id-17 div.sk-toggleable {background-color: white;}#sk-container-id-17 label.sk-toggleable__label {cursor: pointer;display: block;width: 100%;margin-bottom: 0;padding: 0.3em;box-sizing: border-box;text-align: center;}#sk-container-id-17 label.sk-toggleable__label-arrow:before {content: \"▸\";float: left;margin-right: 0.25em;color: #696969;}#sk-container-id-17 label.sk-toggleable__label-arrow:hover:before {color: black;}#sk-container-id-17 div.sk-estimator:hover label.sk-toggleable__label-arrow:before {color: black;}#sk-container-id-17 div.sk-toggleable__content {max-height: 0;max-width: 0;overflow: hidden;text-align: left;background-color: #f0f8ff;}#sk-container-id-17 div.sk-toggleable__content pre {margin: 0.2em;color: black;border-radius: 0.25em;background-color: #f0f8ff;}#sk-container-id-17 input.sk-toggleable__control:checked~div.sk-toggleable__content {max-height: 200px;max-width: 100%;overflow: auto;}#sk-container-id-17 input.sk-toggleable__control:checked~label.sk-toggleable__label-arrow:before {content: \"▾\";}#sk-container-id-17 div.sk-estimator input.sk-toggleable__control:checked~label.sk-toggleable__label {background-color: #d4ebff;}#sk-container-id-17 div.sk-label input.sk-toggleable__control:checked~label.sk-toggleable__label {background-color: #d4ebff;}#sk-container-id-17 input.sk-hidden--visually {border: 0;clip: rect(1px 1px 1px 1px);clip: rect(1px, 1px, 1px, 1px);height: 1px;margin: -1px;overflow: hidden;padding: 0;position: absolute;width: 1px;}#sk-container-id-17 div.sk-estimator {font-family: monospace;background-color: #f0f8ff;border: 1px dotted black;border-radius: 0.25em;box-sizing: border-box;margin-bottom: 0.5em;}#sk-container-id-17 div.sk-estimator:hover {background-color: #d4ebff;}#sk-container-id-17 div.sk-parallel-item::after {content: \"\";width: 100%;border-bottom: 1px solid gray;flex-grow: 1;}#sk-container-id-17 div.sk-label:hover label.sk-toggleable__label {background-color: #d4ebff;}#sk-container-id-17 div.sk-serial::before {content: \"\";position: absolute;border-left: 1px solid gray;box-sizing: border-box;top: 0;bottom: 0;left: 50%;z-index: 0;}#sk-container-id-17 div.sk-serial {display: flex;flex-direction: column;align-items: center;background-color: white;padding-right: 0.2em;padding-left: 0.2em;position: relative;}#sk-container-id-17 div.sk-item {position: relative;z-index: 1;}#sk-container-id-17 div.sk-parallel {display: flex;align-items: stretch;justify-content: center;background-color: white;position: relative;}#sk-container-id-17 div.sk-item::before, #sk-container-id-17 div.sk-parallel-item::before {content: \"\";position: absolute;border-left: 1px solid gray;box-sizing: border-box;top: 0;bottom: 0;left: 50%;z-index: -1;}#sk-container-id-17 div.sk-parallel-item {display: flex;flex-direction: column;z-index: 1;position: relative;background-color: white;}#sk-container-id-17 div.sk-parallel-item:first-child::after {align-self: flex-end;width: 50%;}#sk-container-id-17 div.sk-parallel-item:last-child::after {align-self: flex-start;width: 50%;}#sk-container-id-17 div.sk-parallel-item:only-child::after {width: 0;}#sk-container-id-17 div.sk-dashed-wrapped {border: 1px dashed gray;margin: 0 0.4em 0.5em 0.4em;box-sizing: border-box;padding-bottom: 0.4em;background-color: white;}#sk-container-id-17 div.sk-label label {font-family: monospace;font-weight: bold;display: inline-block;line-height: 1.2em;}#sk-container-id-17 div.sk-label-container {text-align: center;}#sk-container-id-17 div.sk-container {/* jupyter's `normalize.less` sets `[hidden] { display: none; }` but bootstrap.min.css set `[hidden] { display: none !important; }` so we also need the `!important` here to be able to override the default hidden behavior on the sphinx rendered scikit-learn.org. See: https://github.com/scikit-learn/scikit-learn/issues/21755 */display: inline-block !important;position: relative;}#sk-container-id-17 div.sk-text-repr-fallback {display: none;}</style><div id=\"sk-container-id-17\" class=\"sk-top-container\"><div class=\"sk-text-repr-fallback\"><pre>SVC(kernel=&#x27;linear&#x27;)</pre><b>In a Jupyter environment, please rerun this cell to show the HTML representation or trust the notebook. <br />On GitHub, the HTML representation is unable to render, please try loading this page with nbviewer.org.</b></div><div class=\"sk-container\" hidden><div class=\"sk-item\"><div class=\"sk-estimator sk-toggleable\"><input class=\"sk-toggleable__control sk-hidden--visually\" id=\"sk-estimator-id-17\" type=\"checkbox\" checked><label for=\"sk-estimator-id-17\" class=\"sk-toggleable__label sk-toggleable__label-arrow\">SVC</label><div class=\"sk-toggleable__content\"><pre>SVC(kernel=&#x27;linear&#x27;)</pre></div></div></div></div></div>"
      ],
      "text/plain": [
       "SVC(kernel='linear')"
      ]
     },
     "execution_count": 184,
     "metadata": {},
     "output_type": "execute_result"
    }
   ],
   "source": [
    "svm_classifier.fit(X_train, y_train)"
   ]
  },
  {
   "cell_type": "code",
   "execution_count": 185,
   "id": "f55664cb",
   "metadata": {},
   "outputs": [],
   "source": [
    "end_training_time = time.time()\n",
    "training_time_duration = end_training_time - start_training_time\n",
    "cpu_usage_after_training = psutil.cpu_percent(interval=None)\n",
    "ram_usage_after_training = psutil.virtual_memory().used"
   ]
  },
  {
   "cell_type": "code",
   "execution_count": 186,
   "id": "5ca5d8dc",
   "metadata": {},
   "outputs": [
    {
     "name": "stdout",
     "output_type": "stream",
     "text": [
      "Last time taken: 0.0001781999999366235\n",
      "Max Time Taken: 0.00031510000007983763\n",
      "Min Time Taken: 0.00017599999955564272\n"
     ]
    }
   ],
   "source": [
    "# Initialize a variable to track maximum time taken during testing\n",
    "max_time_taken = float(0)\n",
    "min_time_taken = float('inf')\n",
    "last_time_taken = float(0)\n",
    "\n",
    "# Perform multiple iterations of testing and track time taken in each iteration\n",
    "for i in range(200):\n",
    "    cpu_usage_before_testing = psutil.cpu_percent(interval=None)\n",
    "    ram_usage_before_testing = psutil.virtual_memory().used\n",
    "    start_testing_time = time.perf_counter()\n",
    "    \n",
    "    y_pred = svm_classifier.predict(X_test)\n",
    "    \n",
    "    end_testing_time = time.perf_counter()\n",
    "    testing_time_duration = end_testing_time - start_testing_time\n",
    "    cpu_usage_after_testing = psutil.cpu_percent(interval=None)\n",
    "    ram_usage_after_testing = psutil.virtual_memory().used\n",
    "\n",
    "    # Update max_time_taken if current duration is greater\n",
    "    max_time_taken = max(max_time_taken, testing_time_duration)\n",
    "    min_time_taken = min(min_time_taken, testing_time_duration)\n",
    "    last_time_taken = testing_time_duration\n",
    "\n",
    "print(f\"Last time taken: {last_time_taken}\")\n",
    "print(f\"Max Time Taken: {max_time_taken}\")\n",
    "print(f\"Min Time Taken: {min_time_taken}\")"
   ]
  },
  {
   "cell_type": "code",
   "execution_count": 187,
   "id": "4d458740",
   "metadata": {},
   "outputs": [],
   "source": [
    "accuracy = accuracy_score(y_test, y_pred)"
   ]
  },
  {
   "cell_type": "code",
   "execution_count": 188,
   "id": "c9541d8c",
   "metadata": {},
   "outputs": [
    {
     "name": "stdout",
     "output_type": "stream",
     "text": [
      "Accuracy: 96.09%\n",
      "Training Time: 0.01016688 seconds\n",
      "Testing Time: 0.00017820 seconds\n",
      "\n",
      "CPU and RAM usage during Training:\n",
      "CPU Usage Before Training: 3.5%\n",
      "CPU Usage After Training: 0.0%\n",
      "RAM Usage Before Training: 7813.53 MB\n",
      "RAM Usage After Training: 7816.70 MB\n",
      "\n",
      "CPU and RAM usage during Testing:\n",
      "CPU Usage Before Testing: 0.0%\n",
      "CPU Usage After Testing: 0.0%\n",
      "RAM Usage Before Testing: 7820.62 MB\n",
      "RAM Usage After Testing: 7820.62 MB\n"
     ]
    }
   ],
   "source": [
    "# Print results\n",
    "print(f\"Accuracy: {accuracy * 100:.2f}%\")\n",
    "print(f\"Training Time: {training_time_duration:.8f} seconds\")\n",
    "print(f\"Testing Time: {testing_time_duration:.8f} seconds\")\n",
    "\n",
    "# Print CPU and RAM usage during training and testing\n",
    "print(\"\\nCPU and RAM usage during Training:\")\n",
    "print(f\"CPU Usage Before Training: {cpu_usage_before_training}%\")\n",
    "print(f\"CPU Usage After Training: {cpu_usage_after_training}%\")\n",
    "print(f\"RAM Usage Before Training: {ram_usage_before_training / 1e6:.2f} MB\")\n",
    "print(f\"RAM Usage After Training: {ram_usage_after_training / 1e6:.2f} MB\")\n",
    "\n",
    "print(\"\\nCPU and RAM usage during Testing:\")\n",
    "print(f\"CPU Usage Before Testing: {cpu_usage_before_testing}%\")\n",
    "print(f\"CPU Usage After Testing: {cpu_usage_after_testing}%\")\n",
    "print(f\"RAM Usage Before Testing: {ram_usage_before_testing / 1e6:.2f} MB\")\n",
    "print(f\"RAM Usage After Testing: {ram_usage_after_testing / 1e6:.2f} MB\")"
   ]
  },
  {
   "cell_type": "code",
   "execution_count": 189,
   "id": "5a45e176",
   "metadata": {},
   "outputs": [
    {
     "name": "stdout",
     "output_type": "stream",
     "text": [
      "max time taken: 0.00031510000007983763\n",
      "min time taken: 0.00017599999955564272\n",
      "test duration: 0.0001781999999366235\n",
      "accuracy: 0.9609375\n",
      "accuracy weight: 0.8\n",
      "normalised time: 0.9841840375795101\n",
      "time weight: 0.2\n",
      "Balanced Accuracy-Time Index (BATI): 0.9656\n"
     ]
    }
   ],
   "source": [
    "# Define weights for accuracy and time taken (you can adjust these based on your priorities)\n",
    "weight_accuracy = 0.8  # Weight for accuracy\n",
    "weight_time = 0.2      # Weight for time taken\n",
    "\n",
    "# Assuming accuracy_score and time_taken are already calculated\n",
    "# accuracy_score ranges from 0 to 1 (higher is better)\n",
    "# time_taken is the time duration for testing\n",
    "\n",
    "# Normalize time_taken to be in the same scale as accuracy (0 to 1)\n",
    "max_time = max_time_taken  # Replace max_time_taken with the maximum time taken in your testing\n",
    "min_time = min_time_taken\n",
    "normalized_time = 1 - (testing_time_duration-min_time)/(max_time-min_time)\n",
    "\n",
    "print(f\"max time taken: {max_time_taken}\")\n",
    "print(f\"min time taken: {min_time_taken}\")\n",
    "print(f\"test duration: {testing_time_duration}\")\n",
    "\n",
    "print(f\"accuracy: {accuracy}\")\n",
    "print(f\"accuracy weight: {weight_accuracy}\")\n",
    "print(f\"normalised time: {normalized_time}\")\n",
    "print(f\"time weight: {weight_time}\")\n",
    "\n",
    "# Calculate the Balanced Accuracy-Time Index (BATI)\n",
    "balanced_acc_time = (weight_accuracy * accuracy) + (weight_time * normalized_time)\n",
    "\n",
    "# Print the Performance Efficiency Score\n",
    "print(f\"Balanced Accuracy-Time Index (BATI): {balanced_acc_time:.4f}\")"
   ]
  },
  {
   "cell_type": "code",
   "execution_count": null,
   "id": "f1d7e010",
   "metadata": {},
   "outputs": [],
   "source": []
  }
 ],
 "metadata": {
  "kernelspec": {
   "display_name": "Python 3 (ipykernel)",
   "language": "python",
   "name": "python3"
  },
  "language_info": {
   "codemirror_mode": {
    "name": "ipython",
    "version": 3
   },
   "file_extension": ".py",
   "mimetype": "text/x-python",
   "name": "python",
   "nbconvert_exporter": "python",
   "pygments_lexer": "ipython3",
   "version": "3.11.5"
  }
 },
 "nbformat": 4,
 "nbformat_minor": 5
}
