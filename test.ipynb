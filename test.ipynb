{
 "cells": [
  {
   "cell_type": "code",
   "execution_count": 6,
   "id": "0ceb073b",
   "metadata": {},
   "outputs": [],
   "source": [
    "import numpy as np\n",
    "import pandas as pd\n",
    "from sklearn.model_selection import train_test_split\n",
    "from sklearn.preprocessing import StandardScaler\n",
    "from sklearn.metrics import mean_squared_error, r2_score\n",
    "import timeit\n",
    "\n",
    "weight_rmse = 0.5\n",
    "weight_time = 0.5\n",
    "\n",
    "#Importing Dataset\n",
    "df=pd.read_csv(r'D:\\Programming\\Datasets\\Regression\\Bitcoin\\bitcoin.csv')\n",
    "\n",
    "middle_index = df.shape[0] // 2\n",
    "\n",
    "# Select the first half of the DataFrame\n",
    "df_half = df.iloc[:middle_index]\n",
    "\n",
    "# Save the new DataFrame to a file\n",
    "df_half.to_csv(\"bitcoin.csv\", index=False)"
   ]
  }
 ],
 "metadata": {
  "kernelspec": {
   "display_name": "Python 3 (ipykernel)",
   "language": "python",
   "name": "python3"
  },
  "language_info": {
   "codemirror_mode": {
    "name": "ipython",
    "version": 3
   },
   "file_extension": ".py",
   "mimetype": "text/x-python",
   "name": "python",
   "nbconvert_exporter": "python",
   "pygments_lexer": "ipython3",
   "version": "3.11.5"
  }
 },
 "nbformat": 4,
 "nbformat_minor": 5
}
